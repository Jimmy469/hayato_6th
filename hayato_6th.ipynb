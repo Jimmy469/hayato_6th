{
 "cells": [
  {
   "cell_type": "markdown",
   "metadata": {},
   "source": [
    "# Computing Optimal Enhancement Order for Hayato's 6th Job\n",
    "## How to Use This\n",
    "#### There are three forms corresponding to FD values of IED/Boss, the BA proportions of the six boosted skills in 6th job, and the current levels of your six skills. Fill them out or leave them default. When done, click `Runtime` --> `Run All`. Your upgrade order will be output at the bottom."
   ]
  },
  {
   "cell_type": "code",
   "execution_count": 404,
   "metadata": {},
   "outputs": [],
   "source": [
    "#@title Hayato 6th job Skill Strength Increases (Enhancement [5th job], Mastery [4th job], and Origin Skill Cores)\n",
    "import numpy as np\n",
    "import copy\n",
    "import math\n",
    "\n",
    "# more info: https://www.reddit.com/r/Maplestory/comments/17htmz3/new_age_patch_breakdown_part_2_the_6th_job/\n",
    "'''\n",
    "5th job enhancement strength array \n",
    "levels 1-30, from lvl 1-9:11-19% fd, lvl 10-19: 25-34% fd, \n",
    "lvl 20-29: 40-49% fd, lvl30 = 60% fd\n",
    "additive FD, level 1 starts at 1.11 multiplier, then 1.12, 1.13, ..., 1.60\n",
    "'''\n",
    "ENH_5TH = np.array([\n",
    "         0.11, 0.01, 0.01, 0.01, 0.01, 0.01, 0.01, 0.01, 0.01, # level 1-9 = 19fd\n",
    "         0.06, 0.01, 0.01, 0.01, 0.01, 0.01, 0.01, 0.01, 0.01, 0.01, # level 10 - 19 = 34fd\n",
    "         0.06, 0.01, 0.01, 0.01, 0.01, 0.01, 0.01, 0.01, 0.01, 0.01, # level 20 - 29 = 49fd\n",
    "         0.11 ]) # level 30 = 60fd\n",
    "\n",
    "'''\n",
    "origin enhancement strength array\n",
    "per level increase: first slash: 30%, 3 slices: 20% each, last slash: 80%\n",
    "level 1:  (1130 * 8 * 10 + 920  * 10 * 15 + 2480 * 15 * 10) = 600400% damage\n",
    "level 2:  (1160 * 8 * 10 + 940  * 10 * 15 + 2560 * 15 * 10) = 17400% damage per level\n",
    "level 30: (2000 * 8 * 10 + 1500 * 10 * 15 + 4800 * 15 * 10) = 1105000% damage = 84% fd\n",
    "origin skill has additional bonuses at lvl 10, 20, 30\n",
    "10: 20 ied, 20: bd, 30: 30 ied, 30 bd -- calculated as placeholder FD\n",
    "this array is applied multiplicatively, not additively, unlike ENH_5TH\n",
    "'''\n",
    "ENH_ORI = np.array([(600400 + i*17400)/(600400 + (i-1)*17400) for i in range (1, 31)])\n",
    "# ori_dict = {10: 1.01, 20: 1.025, 30: 1.04} # spitball fd values, applied multiplicatively\n",
    "# for index, value in ori_dict.items():\n",
    "#     ENH_ORI[index-1] = ENH_ORI[index-1] * value\n",
    "\n",
    "'''\n",
    "4th job mastery enhancement strength array\n",
    "level 0->1:   354 -> 366%\n",
    "level 1->2:   366 -> 372% = 6% damage per level\n",
    "level 29->30: 540 -> 546% = 50% fd total\n",
    "this array is applied multiplicatively, not additively\n",
    "'''\n",
    "ENH_4TH = np.array([((360 + i*6)/(360 + (i-1)*6)) for i in range (1, 31)])\n",
    "ENH_4TH[0] = 1.0547 # 366/347 (lvl21 rbf) = 1.0547\n",
    "\n"
   ]
  },
  {
   "cell_type": "markdown",
   "metadata": {},
   "source": [
    "### Origin Skill Boosts at Level 10, 20 and 30\n",
    "- lv10: 20 IED  \n",
    "- lv20: 20 Boss \n",
    "- lv30: 30 IED, 30 Boss "
   ]
  },
  {
   "cell_type": "code",
   "execution_count": 405,
   "metadata": {},
   "outputs": [],
   "source": [
    "#@title Personal FD for lv10,20,30 boosts of origin skill (read above)\n",
    "\n",
    "lv10 = 1.01 #@param {allow-input: true, type:\"number\"}\n",
    "lv20 = 1.02 #@param {allow-input: true, type:\"number\"}\n",
    "lv30 = 1.04 #@param {allow-input: true, type:\"number\"}\n",
    "\n",
    "ori_dict = {10: lv10, 20: lv20, 30:lv30}\n",
    "for index, value in ori_dict.items():\n",
    "    ENH_ORI[index-1] = ENH_ORI[index-1] * value\n"
   ]
  },
  {
   "cell_type": "code",
   "execution_count": 406,
   "metadata": {},
   "outputs": [
    {
     "data": {
      "text/plain": [
       "array([1.0547, 1.0164, 1.0161, 1.0159, 1.0156, 1.0154, 1.0152, 1.0149,\n",
       "       1.0147, 1.0145, 1.0143, 1.0141, 1.0139, 1.0137, 1.0135, 1.0133,\n",
       "       1.0132, 1.013 , 1.0128, 1.0127, 1.0125, 1.0123, 1.0122, 1.012 ,\n",
       "       1.0119, 1.0118, 1.0116, 1.0115, 1.0114, 1.0112])"
      ]
     },
     "execution_count": 406,
     "metadata": {},
     "output_type": "execute_result"
    }
   ],
   "source": [
    "#@title Multiplicative FD per level of HEXA RBF boost \n",
    "ENH_4TH.round(4)"
   ]
  },
  {
   "cell_type": "code",
   "execution_count": 407,
   "metadata": {},
   "outputs": [
    {
     "data": {
      "text/plain": [
       "array([1.029 , 1.0282, 1.0274, 1.0267, 1.026 , 1.0253, 1.0247, 1.0241,\n",
       "       1.0235, 1.0332, 1.0225, 1.022 , 1.0215, 1.0211, 1.0206, 1.0202,\n",
       "       1.0198, 1.0194, 1.019 , 1.0391, 1.0183, 1.018 , 1.0177, 1.0174,\n",
       "       1.0171, 1.0168, 1.0165, 1.0163, 1.016 , 1.0564])"
      ]
     },
     "execution_count": 407,
     "metadata": {},
     "output_type": "execute_result"
    }
   ],
   "source": [
    "#@title Multiplicative FD per level of Origin Skill boost\n",
    "ENH_ORI.round(4)"
   ]
  },
  {
   "cell_type": "code",
   "execution_count": 408,
   "metadata": {},
   "outputs": [
    {
     "data": {
      "text/plain": [
       "30"
      ]
     },
     "execution_count": 408,
     "metadata": {},
     "output_type": "execute_result"
    }
   ],
   "source": [
    "len(ENH_4TH)"
   ]
  },
  {
   "cell_type": "code",
   "execution_count": 409,
   "metadata": {},
   "outputs": [],
   "source": [
    "#@title Enhancement cost arrays\n",
    "# level 2-30\n",
    "ORIGIN_COST      = np.array([(1, 30),  (1, 35),  (1, 40),  (2, 45),   (2, 50),\n",
    "                             (2, 55),  (3, 60),  (3, 65),  (10, 200), (3, 80),\n",
    "                             (3, 90),  (4, 100), (4, 110), (4, 120),  (4, 130),\n",
    "                             (4, 140), (4, 150), (5, 160), (15, 350), (5, 170),  \n",
    "                             (5, 180), (5, 190), (5, 200), (5, 210),  (6, 220),  \n",
    "                             (6, 230), (6, 240), (7, 250), (20, 500)])\n",
    "# level 1-30\n",
    "MASTER_COST     = np.array([(3, 50),  (1, 15),  (1, 18),  (1, 20),  (1, 23),\n",
    "                             (1, 25),  (2, 28),  (2, 30),  (2, 33),  (5, 100),\n",
    "                             (2, 40),  (2, 45),  (2, 50),  (2, 55),  (2, 60),\n",
    "                             (2, 65),  (2, 70),  (2, 75),  (3, 80),  (8, 175),\n",
    "                             (3, 85),  (3, 90),  (3, 95),  (3, 100), (3, 105),\n",
    "                             (3, 110), (3, 115), (3, 120), (4, 125), (10, 250)])\n",
    "# level 1-30\n",
    "ENHANCEMENT_COST = np.array([(4, 75),  (1, 23),  (1, 27),  (1, 30),  (2, 34),\n",
    "                             (2, 38),  (2, 42),  (3, 45),  (3, 49),  (8, 150),\n",
    "                             (3, 60),  (3, 68),  (3, 75),  (3, 83),  (3, 90),\n",
    "                             (3, 98),  (3, 105), (4, 113), (4, 120), (12, 263),\n",
    "                             (4, 128), (4, 135), (4, 143), (4, 150), (4, 158),\n",
    "                             (5, 165), (5, 173), (6, 180), (6, 188), (15, 375)])"
   ]
  },
  {
   "cell_type": "code",
   "execution_count": 410,
   "metadata": {},
   "outputs": [
    {
     "data": {
      "text/plain": [
       "array([ 24, 640])"
      ]
     },
     "execution_count": 410,
     "metadata": {},
     "output_type": "execute_result"
    }
   ],
   "source": [
    "MASTER_COST[9:19].sum(axis=0)"
   ]
  },
  {
   "cell_type": "code",
   "execution_count": 411,
   "metadata": {},
   "outputs": [],
   "source": [
    "#@title Hardcoded Full Rot and Burst BA proportions in percentages\n",
    "# taken from Labels' BA\n",
    "# assuming unleveled enhancement cores (lvl 0, no fd)\n",
    "ba_prop    = {\"zankou\" :0.110,\n",
    "              \"slice\"  :0.079,\n",
    "              \"jamal\"  :0.067,\n",
    "              \"pb\"     :0.064,\n",
    "              \"jinqd\"  :0.084, # origin skill\n",
    "              \"rbf\"    :0.336}\n",
    "\n",
    "burst_prop = {\"zankou\" :0.139,\n",
    "              \"slice\"  :0.076,\n",
    "              \"jamal\"  :0.106,\n",
    "              \"pb\"     :0.073,\n",
    "              \"jinqd\"  :0.281, # origin skill\n",
    "              \"rbf\"    :0.137}\n",
    "\n",
    "# dictionary to keep track of current upgrade level of each skill\n",
    "# key: skill name, value: level (corresponds to index of ENH_5TH)\n",
    "skills = {\"zankou\": 0, \n",
    "          \"slice\":  0, \n",
    "          \"jamal\":  0, \n",
    "          \"pb\":     0, \n",
    "          \"jinqd\":  1, # idk how origin skill damage increase works\n",
    "          \"rbf\":    0}"
   ]
  },
  {
   "cell_type": "code",
   "execution_count": 412,
   "metadata": {},
   "outputs": [],
   "source": [
    "#@title Your Personal BA Skill Proportions { vertical-output: true }\n",
    "p_zankou  = 0.110 #@param {allow-input: true, type:\"number\"}\n",
    "p_slice   = 0.079 #@param {allow-input: true, type:\"number\"}\n",
    "p_susanoo = 0.067 #@param {allow-input: true, type:\"number\"}\n",
    "p_pb      = 0.064 #@param {allow-input: true, type:\"number\"}\n",
    "p_jinqd   = 0.084 #@param {allow-input: true, type:\"number\"}\n",
    "p_rbf     = 0.336 #@param {allow-input: true, type:\"number\"}\n",
    "\n",
    "BA_PROP    = {\"zankou\" :p_zankou,\n",
    "              \"slice\"  :p_slice,\n",
    "              \"jamal\"  :p_susanoo,\n",
    "              \"pb\"     :p_pb,\n",
    "              \"jinqd\"  :p_jinqd, # origin skill\n",
    "              \"rbf\"    :p_rbf}"
   ]
  },
  {
   "cell_type": "code",
   "execution_count": 413,
   "metadata": {},
   "outputs": [],
   "source": [
    "#@title Your Current HEXA Skill Levels { vertical-output: true }\n",
    "l_zankou  = 0 #@param {allow-input: true, type:\"integer\"}\n",
    "l_slice   = 0 #@param {allow-input: true, type:\"integer\"}\n",
    "l_susanoo = 0 #@param {allow-input: true, type:\"integer\"}\n",
    "l_pb      = 0 #@param {allow-input: true, type:\"integer\"}\n",
    "l_jinqd   = 1 #@param {allow-input: true, type:\"integer\"}\n",
    "l_rbf     = 0 #@param {allow-input: true, type:\"integer\"}\n",
    "\n",
    "skills = {\"zankou\": l_zankou, \n",
    "          \"slice\":  l_slice, \n",
    "          \"jamal\":  l_susanoo, \n",
    "          \"pb\":     l_pb, \n",
    "          \"jinqd\":  l_jinqd, # idk how origin skill damage increase works\n",
    "          \"rbf\":    l_rbf}"
   ]
  },
  {
   "cell_type": "markdown",
   "metadata": {},
   "source": [
    "## \"Greedy\" Search for Upgrade Order\n",
    "### Computation Methodology\n",
    "There are 6 skills we can boost currently: `Rai Blade Flash` (Mastery Core [4th Job]), `Jin Quick Draw` (Origin Core [6th Job]), and `Instant Slice, Zankou, Phantom Blade, and Susano-o` (Enhancement Core [5th Job]).\n",
    "\n",
    "In the BA's provided by Labels, these 6 skills each make up some % (let's call them `proportions`) of the BA (total 100%, or `1.0`). In the first step, the algorithm picks RBF to upgrade first. Why? RBF unboosted makes up `0.336` (33.6%) of a full rotation BA. Leveling its Mastery Core from 0-->1 is a 5.47% fd increase (366% damage level 1, 347% damage unboosted) and provides an absolute `0.018` (1.8%) increase to the BA. Its upgrade cost is 3 Sol Erda and 50 fragments, which I calculate as (`3 * energy + 1 * fragments`). Feel free to give me a better cost ratio. The strength_gain:cost ratio (`0.018/350`) is the highest of the 6 skills, so it is picked. \n",
    "\n",
    "As a result, RBF's new proportion in a BA would be `0.354` out of `1.018` (`1.0 + 0.018`). Then, in order to normalize the `proportions` to be percentages, we recalculate the initial `proportions` to be out of this new `1.018` value (let's call it `total_strength`). \n",
    "\n",
    "This process iterates until all skills have been fully upgraded.\n",
    "\n",
    "NOTE: All the hardcoded proportions are subject to change when 6th job lands and GMS people do BAs. This is a greedy algorithm that only looks at the immediate damage gain and immediate cost. We can tune these costs and heuristics. This is especially important because the amortized FD gain spikes as you approach levels 10, 20, and 30."
   ]
  },
  {
   "cell_type": "code",
   "execution_count": null,
   "metadata": {},
   "outputs": [],
   "source": []
  },
  {
   "cell_type": "code",
   "execution_count": 414,
   "metadata": {},
   "outputs": [],
   "source": [
    "#@title Cost, FD Gain, and Heuristic Functions\n",
    "def cost_fn(skill, level, desired_level, mean=\"geometric\"):\n",
    "    '''\n",
    "    returns the cost of upgrading a skill to a certain level\n",
    "    '''\n",
    "    energy, fragments = 0, 0\n",
    "    if skill == \"jinqd\":\n",
    "        energy, fragments = ORIGIN_COST[level-1:desired_level-1].sum(axis=0)\n",
    "    elif skill == \"rbf\":\n",
    "        energy, fragments = MASTER_COST[level:desired_level].sum(axis=0)\n",
    "    else:\n",
    "        energy, fragments = ENHANCEMENT_COST[level:desired_level].sum(axis=0)\n",
    "    return (100*energy) + fragments\n",
    "\n",
    "def fd_gain(skill, level, desired_level):\n",
    "    '''\n",
    "    returns the strength proportions of skill at its current level and at a certain upgraded level\n",
    "    '''\n",
    "    orig_prop = BA_PROP[skill] # original proportion\n",
    "    cprop, nprop = 0, 0\n",
    "    if skill == \"jinqd\":\n",
    "        cprop = ENH_ORI[:level].prod() * orig_prop\n",
    "        nprop = ENH_ORI[:desired_level].prod() * orig_prop\n",
    "    elif skill == \"rbf\":\n",
    "        cprop = ENH_4TH[:level].prod() * orig_prop\n",
    "        nprop = ENH_4TH[:desired_level].prod() * orig_prop\n",
    "    else:\n",
    "        cprop = (1 + ENH_5TH[:level].sum()) * orig_prop\n",
    "        nprop = (1 + ENH_5TH[:desired_level].sum()) * orig_prop\n",
    "    strength_increase = nprop - cprop\n",
    "    return strength_increase, cprop, nprop\n",
    "\n",
    "def ratio_fn(fd, cost, mean=\"arithmetic\"):\n",
    "    return (fd*1000) / cost\n",
    "\n",
    "def round10(x):\n",
    "    # return math.ceil(x / 10.0) * 10\n",
    "    return int(round(x + 5.1, -1))\n",
    "\n",
    "# TODO: lookahead fn to see how much fd is coming up. stops when next level provides worse per level efficiency than prior level\n",
    "def lookahead_fn(skill, level, strategy=\"default\"):\n",
    "    choices = []\n",
    "    if (level + 1) % 10 != 0:\n",
    "        rlevel = round10(level) # round to nearest 10\n",
    "        rratio = ratio_fn(fd_gain(skill, level, rlevel)[0], cost_fn(skill, level, rlevel))\n",
    "        print(f\"checking round: {(rlevel, rratio)}\")\n",
    "        choices.append((rlevel, rratio))\n",
    "    elif (level + 1) % 10 == 0:\n",
    "        best_ratio = 0\n",
    "        curr_ratio = 0\n",
    "        nlevel = level + 2 # lookahead starting from 1 past level 0/10/20\n",
    "        while (curr_ratio >= best_ratio) and (nlevel - 1 < len(ENH_5TH)):\n",
    "            curr_ratio = ratio_fn(fd_gain(skill, level, nlevel)[0], cost_fn(skill, level, nlevel))\n",
    "            if curr_ratio > best_ratio: \n",
    "                best_ratio = curr_ratio \n",
    "            nlevel += 1\n",
    "        choices.append((nlevel - 1, best_ratio))\n",
    "\n",
    "    return choices\n"
   ]
  },
  {
   "cell_type": "code",
   "execution_count": 423,
   "metadata": {},
   "outputs": [
    {
     "data": {
      "text/plain": [
       "10.0"
      ]
     },
     "execution_count": 423,
     "metadata": {},
     "output_type": "execute_result"
    }
   ],
   "source": [
    "round(3 + 5.1, -1)"
   ]
  },
  {
   "cell_type": "code",
   "execution_count": 416,
   "metadata": {},
   "outputs": [
    {
     "data": {
      "text/plain": [
       "[(19, 0.019656186367558205)]"
      ]
     },
     "execution_count": 416,
     "metadata": {},
     "output_type": "execute_result"
    }
   ],
   "source": [
    "lookahead_fn(\"rbf\", 9)"
   ]
  },
  {
   "cell_type": "code",
   "execution_count": 417,
   "metadata": {},
   "outputs": [
    {
     "data": {
      "text/plain": [
       "(0.007680000000000006, 0.07232, 0.08)"
      ]
     },
     "execution_count": 417,
     "metadata": {},
     "output_type": "execute_result"
    }
   ],
   "source": [
    "fd_gain(\"pb\", 3, 10)"
   ]
  },
  {
   "cell_type": "code",
   "execution_count": 418,
   "metadata": {},
   "outputs": [
    {
     "data": {
      "text/plain": [
       "2488"
      ]
     },
     "execution_count": 418,
     "metadata": {},
     "output_type": "execute_result"
    }
   ],
   "source": [
    "cost_fn(\"pb\", 3, 10)"
   ]
  },
  {
   "cell_type": "code",
   "execution_count": 419,
   "metadata": {},
   "outputs": [
    {
     "data": {
      "text/plain": [
       "0.003086816720257235"
      ]
     },
     "execution_count": 419,
     "metadata": {},
     "output_type": "execute_result"
    }
   ],
   "source": [
    "ratio_fn(0.00768, 2488)"
   ]
  },
  {
   "cell_type": "code",
   "execution_count": 420,
   "metadata": {},
   "outputs": [],
   "source": [
    "#@title Function to calculate overall strength, skipping discretized steps of greedy search\n",
    "# basically a validation function\n",
    "def calculate_strength(fd_multipliers, origin_multipliers):\n",
    "    temp_fd = copy.deepcopy(ba_prop)\n",
    "    for skill_name, pct in ba_prop.items():\n",
    "        if skill_name == \"jinqd\":\n",
    "            temp_fd[skill_name] *= 2.01\n",
    "        elif skill_name == \"rbf\":\n",
    "            temp_fd[skill_name] *= 1.54\n",
    "        else:\n",
    "            temp_fd[skill_name] *= 1.6\n",
    "    # sum of all fd * proportion of each skill\n",
    "    increase = (np.array(list(temp_fd.values())) - np.array(list(ba_prop.values()))).sum()\n",
    "    return  (1 + increase / 1)"
   ]
  },
  {
   "cell_type": "code",
   "execution_count": 421,
   "metadata": {},
   "outputs": [
    {
     "data": {
      "text/plain": [
       "0"
      ]
     },
     "execution_count": 421,
     "metadata": {},
     "output_type": "execute_result"
    }
   ],
   "source": [
    "a = [[8, 15], [9, 12]]\n",
    "a = np.array(a)\n",
    "# np.argmax(a[:,1])\n",
    "# np.array(a)[1,1]\n",
    "a[:,1].argmax()"
   ]
  },
  {
   "cell_type": "code",
   "execution_count": 422,
   "metadata": {},
   "outputs": [
    {
     "name": "stdout",
     "output_type": "stream",
     "text": [
      "Upgrade: 0 total_strength_gain: 1.0\n"
     ]
    },
    {
     "ename": "TypeError",
     "evalue": "slice indices must be integers or None or have an __index__ method",
     "output_type": "error",
     "traceback": [
      "\u001b[1;31m---------------------------------------------------------------------------\u001b[0m",
      "\u001b[1;31mTypeError\u001b[0m                                 Traceback (most recent call last)",
      "\u001b[1;32m~\\AppData\\Local\\Temp/ipykernel_29232/2900953068.py\u001b[0m in \u001b[0;36m<module>\u001b[1;34m\u001b[0m\n\u001b[0;32m     33\u001b[0m \u001b[1;33m\u001b[0m\u001b[0m\n\u001b[0;32m     34\u001b[0m         \u001b[0mdirect_strength_cost_ratio\u001b[0m \u001b[1;33m=\u001b[0m \u001b[0mratio_fn\u001b[0m\u001b[1;33m(\u001b[0m\u001b[0mstrength_increase\u001b[0m\u001b[1;33m,\u001b[0m \u001b[0mcost\u001b[0m\u001b[1;33m)\u001b[0m\u001b[1;33m\u001b[0m\u001b[1;33m\u001b[0m\u001b[0m\n\u001b[1;32m---> 35\u001b[1;33m         \u001b[0mchoices\u001b[0m \u001b[1;33m=\u001b[0m \u001b[0mlookahead_fn\u001b[0m\u001b[1;33m(\u001b[0m\u001b[0mskill_name\u001b[0m\u001b[1;33m,\u001b[0m \u001b[0mlevel\u001b[0m\u001b[1;33m)\u001b[0m\u001b[1;33m\u001b[0m\u001b[1;33m\u001b[0m\u001b[0m\n\u001b[0m\u001b[0;32m     36\u001b[0m         \u001b[0mchoices\u001b[0m\u001b[1;33m.\u001b[0m\u001b[0mappend\u001b[0m\u001b[1;33m(\u001b[0m\u001b[1;33m(\u001b[0m\u001b[0mnext_level\u001b[0m\u001b[1;33m,\u001b[0m \u001b[0mdirect_strength_cost_ratio\u001b[0m\u001b[1;33m)\u001b[0m\u001b[1;33m)\u001b[0m\u001b[1;33m\u001b[0m\u001b[1;33m\u001b[0m\u001b[0m\n\u001b[0;32m     37\u001b[0m         \u001b[0mchoices\u001b[0m \u001b[1;33m=\u001b[0m \u001b[0mnp\u001b[0m\u001b[1;33m.\u001b[0m\u001b[0mnan_to_num\u001b[0m\u001b[1;33m(\u001b[0m\u001b[0mnp\u001b[0m\u001b[1;33m.\u001b[0m\u001b[0marray\u001b[0m\u001b[1;33m(\u001b[0m\u001b[0mchoices\u001b[0m\u001b[1;33m)\u001b[0m\u001b[1;33m)\u001b[0m\u001b[1;33m\u001b[0m\u001b[1;33m\u001b[0m\u001b[0m\n",
      "\u001b[1;32m~\\AppData\\Local\\Temp/ipykernel_29232/307891433.py\u001b[0m in \u001b[0;36mlookahead_fn\u001b[1;34m(skill, level, strategy)\u001b[0m\n\u001b[0;32m     43\u001b[0m     \u001b[1;32mif\u001b[0m \u001b[1;33m(\u001b[0m\u001b[0mlevel\u001b[0m \u001b[1;33m+\u001b[0m \u001b[1;36m1\u001b[0m\u001b[1;33m)\u001b[0m \u001b[1;33m%\u001b[0m \u001b[1;36m10\u001b[0m \u001b[1;33m!=\u001b[0m \u001b[1;36m0\u001b[0m\u001b[1;33m:\u001b[0m\u001b[1;33m\u001b[0m\u001b[1;33m\u001b[0m\u001b[0m\n\u001b[0;32m     44\u001b[0m         \u001b[0mrlevel\u001b[0m \u001b[1;33m=\u001b[0m \u001b[0mround10\u001b[0m\u001b[1;33m(\u001b[0m\u001b[0mlevel\u001b[0m\u001b[1;33m)\u001b[0m \u001b[1;31m# round to nearest 10\u001b[0m\u001b[1;33m\u001b[0m\u001b[1;33m\u001b[0m\u001b[0m\n\u001b[1;32m---> 45\u001b[1;33m         \u001b[0mrratio\u001b[0m \u001b[1;33m=\u001b[0m \u001b[0mratio_fn\u001b[0m\u001b[1;33m(\u001b[0m\u001b[0mfd_gain\u001b[0m\u001b[1;33m(\u001b[0m\u001b[0mskill\u001b[0m\u001b[1;33m,\u001b[0m \u001b[0mlevel\u001b[0m\u001b[1;33m,\u001b[0m \u001b[0mrlevel\u001b[0m\u001b[1;33m)\u001b[0m\u001b[1;33m[\u001b[0m\u001b[1;36m0\u001b[0m\u001b[1;33m]\u001b[0m\u001b[1;33m,\u001b[0m \u001b[0mcost_fn\u001b[0m\u001b[1;33m(\u001b[0m\u001b[0mskill\u001b[0m\u001b[1;33m,\u001b[0m \u001b[0mlevel\u001b[0m\u001b[1;33m,\u001b[0m \u001b[0mrlevel\u001b[0m\u001b[1;33m)\u001b[0m\u001b[1;33m)\u001b[0m\u001b[1;33m\u001b[0m\u001b[1;33m\u001b[0m\u001b[0m\n\u001b[0m\u001b[0;32m     46\u001b[0m         \u001b[0mprint\u001b[0m\u001b[1;33m(\u001b[0m\u001b[1;34mf\"checking round: {(rlevel, rratio)}\"\u001b[0m\u001b[1;33m)\u001b[0m\u001b[1;33m\u001b[0m\u001b[1;33m\u001b[0m\u001b[0m\n\u001b[0;32m     47\u001b[0m         \u001b[0mchoices\u001b[0m\u001b[1;33m.\u001b[0m\u001b[0mappend\u001b[0m\u001b[1;33m(\u001b[0m\u001b[1;33m(\u001b[0m\u001b[0mrlevel\u001b[0m\u001b[1;33m,\u001b[0m \u001b[0mrratio\u001b[0m\u001b[1;33m)\u001b[0m\u001b[1;33m)\u001b[0m\u001b[1;33m\u001b[0m\u001b[1;33m\u001b[0m\u001b[0m\n",
      "\u001b[1;32m~\\AppData\\Local\\Temp/ipykernel_29232/307891433.py\u001b[0m in \u001b[0;36mfd_gain\u001b[1;34m(skill, level, desired_level)\u001b[0m\n\u001b[0;32m     27\u001b[0m     \u001b[1;32melse\u001b[0m\u001b[1;33m:\u001b[0m\u001b[1;33m\u001b[0m\u001b[1;33m\u001b[0m\u001b[0m\n\u001b[0;32m     28\u001b[0m         \u001b[0mcprop\u001b[0m \u001b[1;33m=\u001b[0m \u001b[1;33m(\u001b[0m\u001b[1;36m1\u001b[0m \u001b[1;33m+\u001b[0m \u001b[0mENH_5TH\u001b[0m\u001b[1;33m[\u001b[0m\u001b[1;33m:\u001b[0m\u001b[0mlevel\u001b[0m\u001b[1;33m]\u001b[0m\u001b[1;33m.\u001b[0m\u001b[0msum\u001b[0m\u001b[1;33m(\u001b[0m\u001b[1;33m)\u001b[0m\u001b[1;33m)\u001b[0m \u001b[1;33m*\u001b[0m \u001b[0morig_prop\u001b[0m\u001b[1;33m\u001b[0m\u001b[1;33m\u001b[0m\u001b[0m\n\u001b[1;32m---> 29\u001b[1;33m         \u001b[0mnprop\u001b[0m \u001b[1;33m=\u001b[0m \u001b[1;33m(\u001b[0m\u001b[1;36m1\u001b[0m \u001b[1;33m+\u001b[0m \u001b[0mENH_5TH\u001b[0m\u001b[1;33m[\u001b[0m\u001b[1;33m:\u001b[0m\u001b[0mdesired_level\u001b[0m\u001b[1;33m]\u001b[0m\u001b[1;33m.\u001b[0m\u001b[0msum\u001b[0m\u001b[1;33m(\u001b[0m\u001b[1;33m)\u001b[0m\u001b[1;33m)\u001b[0m \u001b[1;33m*\u001b[0m \u001b[0morig_prop\u001b[0m\u001b[1;33m\u001b[0m\u001b[1;33m\u001b[0m\u001b[0m\n\u001b[0m\u001b[0;32m     30\u001b[0m     \u001b[0mstrength_increase\u001b[0m \u001b[1;33m=\u001b[0m \u001b[0mnprop\u001b[0m \u001b[1;33m-\u001b[0m \u001b[0mcprop\u001b[0m\u001b[1;33m\u001b[0m\u001b[1;33m\u001b[0m\u001b[0m\n\u001b[0;32m     31\u001b[0m     \u001b[1;32mreturn\u001b[0m \u001b[0mstrength_increase\u001b[0m\u001b[1;33m,\u001b[0m \u001b[0mcprop\u001b[0m\u001b[1;33m,\u001b[0m \u001b[0mnprop\u001b[0m\u001b[1;33m\u001b[0m\u001b[1;33m\u001b[0m\u001b[0m\n",
      "\u001b[1;31mTypeError\u001b[0m: slice indices must be integers or None or have an __index__ method"
     ]
    }
   ],
   "source": [
    "#@title Main Loop { vertical-output: true }\n",
    "verbose_order = []\n",
    "order = [] # order of upgrades\n",
    "total_strength_gain = 1.0\n",
    "temp_prop   = copy.deepcopy(BA_PROP)\n",
    "temp_skills = copy.deepcopy(skills)\n",
    "# Brute force search\n",
    "for iteration in range(180):\n",
    "# for iteration in range(20):\n",
    "    print(f\"Upgrade: {iteration} total_strength_gain: {total_strength_gain}\")\n",
    "    max_strength_increase = 0\n",
    "    max_strength_increase_ratio = 0\n",
    "    max_strength_level = 0\n",
    "    selected_skill = None\n",
    "    new_prop = 0\n",
    "\n",
    "    # Iterate through each skill\n",
    "    for skill_name, level in temp_skills.items():\n",
    "        # Forecast one level ahead for each skill\n",
    "        level = int(level)\n",
    "        next_level = int(level + 1)\n",
    "        # Check if the skill has reached the maximum level\n",
    "        if next_level > len(ENH_5TH):\n",
    "            continue\n",
    "\n",
    "        # Calculate proportional increase in strength\n",
    "        # strength_increase = (total_strength_gain + (ngain * orig_prop) - prop) / (total_strength_gain)\n",
    "        cost = 0\n",
    "        cprop = 0 # current contribution of total damage (absolute value, not proportion)\n",
    "        nprop = 0 # new contribution of total damage\n",
    "        cost = cost_fn(skill_name, level, next_level)\n",
    "        strength_increase, cprop, nprop = fd_gain(skill_name, level, next_level)\n",
    "\n",
    "        direct_strength_cost_ratio = ratio_fn(strength_increase, cost)\n",
    "        choices = lookahead_fn(skill_name, level)\n",
    "        choices.append((next_level, direct_strength_cost_ratio))\n",
    "        choices = np.nan_to_num(np.array(choices))\n",
    "        print(choices[:,0], choices[:,1].round(3))\n",
    "        desired_level, strength_cost_ratio = choices[np.argmax(choices[:,1])]\n",
    "        desired_level = int(desired_level)\n",
    "        print(f\"skill name: ({level} --> {desired_level}) {skill_name:>6}, nprop: {np.round(nprop, 3):>5}, cprop: {np.round(cprop,3):>5}, strength_increase: {np.round(strength_increase,4):>6}, cost: {cost:>4}, ratio: {np.round(strength_cost_ratio, 4)}\")\n",
    "        \n",
    "        # Check if this is the maximum increase so far\n",
    "        # if strength_increase > max_strength_increase:\n",
    "        if strength_cost_ratio > max_strength_increase_ratio:\n",
    "            max_strength_increase = strength_increase\n",
    "            max_strength_increase_ratio = strength_cost_ratio\n",
    "            max_strength_level = desired_level\n",
    "            selected_skill = skill_name\n",
    "            new_prop = nprop\n",
    "            # recalculating total strength gain\n",
    "\n",
    "    # Apply the selected enhancement\n",
    "    if selected_skill is not None:\n",
    "        # temp_skills[selected_skill] += 1 # increase level by 1\n",
    "        temp_skills[selected_skill] = max_strength_level\n",
    "        # Increment total strength gain and update the skill damage proportions\n",
    "        prev_total_strength = total_strength_gain\n",
    "        total_strength_gain += max_strength_increase\n",
    "        true_fd_gain = np.round(total_strength_gain/prev_total_strength, 4)\n",
    "        true_fd_gain_pct = f\"{true_fd_gain - 1.000:0.3%}\"\n",
    "        for skill_name, prop in temp_prop.items():\n",
    "            temp_prop[skill_name] = prop/total_strength_gain\n",
    "        temp_prop[selected_skill] = new_prop/total_strength_gain\n",
    "        update_str = f\"Upgrade #: {iteration + 1:>3}, Skill: {selected_skill:>6}, New Level: {temp_skills[selected_skill]:>2}, True FD Gained: {true_fd_gain_pct:>5}, max_strength_increase: {round(max_strength_increase, 4):>5}, max_strength_increase_ratio: {round(max_strength_increase_ratio, 4)}\"\n",
    "        print(update_str)\n",
    "        order.append(update_str)\n",
    "\n",
    "# After the loop, you can print the final results\n",
    "final_strength = calculate_strength(dict, ENH_ORI)\n",
    "print(\"Final Strength (validation if starting from 0):\", final_strength)\n",
    "print(f\"temp_prop: {temp_prop}\")"
   ]
  },
  {
   "cell_type": "code",
   "execution_count": null,
   "metadata": {},
   "outputs": [
    {
     "data": {
      "text/plain": [
       "1.1761821026637969"
      ]
     },
     "execution_count": 402,
     "metadata": {},
     "output_type": "execute_result"
    }
   ],
   "source": [
    "total_strength_gain"
   ]
  },
  {
   "cell_type": "code",
   "execution_count": null,
   "metadata": {},
   "outputs": [
    {
     "data": {
      "text/plain": [
       "['Upgrade #:   1, Skill:    rbf, New Level:  1, True FD Gained: 1.840%, max_strength_increase: 0.0184, max_strength_increase_ratio: 0.0525',\n",
       " 'Upgrade #:   2, Skill:    rbf, New Level:  2, True FD Gained: 0.570%, max_strength_increase: 0.0058, max_strength_increase_ratio: 0.0505',\n",
       " 'Upgrade #:   3, Skill:    rbf, New Level:  3, True FD Gained: 0.570%, max_strength_increase: 0.0058, max_strength_increase_ratio: 0.0492',\n",
       " 'Upgrade #:   4, Skill:    rbf, New Level:  4, True FD Gained: 0.560%, max_strength_increase: 0.0058, max_strength_increase_ratio: 0.0484',\n",
       " 'Upgrade #:   5, Skill:    rbf, New Level:  5, True FD Gained: 0.560%, max_strength_increase: 0.0058, max_strength_increase_ratio: 0.0472',\n",
       " 'Upgrade #:   6, Skill:    rbf, New Level:  6, True FD Gained: 0.560%, max_strength_increase: 0.0058, max_strength_increase_ratio: 0.0465',\n",
       " 'Upgrade #:   7, Skill:    rbf, New Level:  7, True FD Gained: 0.550%, max_strength_increase: 0.0058, max_strength_increase_ratio: 0.0255',\n",
       " 'Upgrade #:   8, Skill: zankou, New Level:  1, True FD Gained: 1.150%, max_strength_increase: 0.0121, max_strength_increase_ratio: 0.0255',\n",
       " 'Upgrade #:   9, Skill:    rbf, New Level:  8, True FD Gained: 0.550%, max_strength_increase: 0.0058, max_strength_increase_ratio: 0.0253',\n",
       " 'Upgrade #:  10, Skill:    rbf, New Level:  9, True FD Gained: 0.540%, max_strength_increase: 0.0058, max_strength_increase_ratio: 0.0249',\n",
       " 'Upgrade #:  11, Skill:    rbf, New Level: 19, True FD Gained: 0.540%, max_strength_increase: 0.0058, max_strength_increase_ratio: 0.0197',\n",
       " 'Upgrade #:  12, Skill:  jinqd, New Level:  2, True FD Gained: 0.220%, max_strength_increase: 0.0024, max_strength_increase_ratio: 0.0187',\n",
       " 'Upgrade #:  13, Skill:  slice, New Level:  1, True FD Gained: 0.800%, max_strength_increase: 0.0087, max_strength_increase_ratio: 0.0183',\n",
       " 'Upgrade #:  14, Skill:  jinqd, New Level:  3, True FD Gained: 0.220%, max_strength_increase: 0.0024, max_strength_increase_ratio: 0.018',\n",
       " 'Upgrade #:  15, Skill:  jinqd, New Level:  4, True FD Gained: 0.220%, max_strength_increase: 0.0024, max_strength_increase_ratio: 0.0174',\n",
       " 'Upgrade #:  16, Skill:  jamal, New Level:  1, True FD Gained: 0.670%, max_strength_increase: 0.0074, max_strength_increase_ratio: 0.0155',\n",
       " 'Upgrade #:  17, Skill:     pb, New Level:  1, True FD Gained: 0.640%, max_strength_increase: 0.007, max_strength_increase_ratio: 0.0148',\n",
       " 'Upgrade #:  18, Skill:    rbf, New Level: 29, True FD Gained: 0.520%, max_strength_increase: 0.0058, max_strength_increase_ratio: 0.0125',\n",
       " 'Upgrade #:  19, Skill:  jinqd, New Level:  5, True FD Gained: 0.220%, max_strength_increase: 0.0024, max_strength_increase_ratio: 0.0099',\n",
       " 'Upgrade #:  20, Skill:  jinqd, New Level:  6, True FD Gained: 0.220%, max_strength_increase: 0.0024, max_strength_increase_ratio: 0.0097',\n",
       " 'Upgrade #:  21, Skill:  jinqd, New Level:  7, True FD Gained: 0.220%, max_strength_increase: 0.0024, max_strength_increase_ratio: 0.0095',\n",
       " 'Upgrade #:  22, Skill: zankou, New Level:  2, True FD Gained: 0.100%, max_strength_increase: 0.0011, max_strength_increase_ratio: 0.0089',\n",
       " 'Upgrade #:  23, Skill: zankou, New Level:  3, True FD Gained: 0.100%, max_strength_increase: 0.0011, max_strength_increase_ratio: 0.0087',\n",
       " 'Upgrade #:  24, Skill: zankou, New Level:  4, True FD Gained: 0.100%, max_strength_increase: 0.0011, max_strength_increase_ratio: 0.0085',\n",
       " 'Upgrade #:  25, Skill:  jinqd, New Level:  8, True FD Gained: 0.220%, max_strength_increase: 0.0024, max_strength_increase_ratio: 0.0068',\n",
       " 'Upgrade #:  26, Skill:  jinqd, New Level:  9, True FD Gained: 0.220%, max_strength_increase: 0.0024, max_strength_increase_ratio: 0.0067',\n",
       " 'Upgrade #:  27, Skill:  slice, New Level:  2, True FD Gained: 0.070%, max_strength_increase: 0.0008, max_strength_increase_ratio: 0.0064',\n",
       " 'Upgrade #:  28, Skill:  slice, New Level:  3, True FD Gained: 0.070%, max_strength_increase: 0.0008, max_strength_increase_ratio: 0.0062',\n",
       " 'Upgrade #:  29, Skill:  slice, New Level:  4, True FD Gained: 0.070%, max_strength_increase: 0.0008, max_strength_increase_ratio: 0.0061',\n",
       " 'Upgrade #:  30, Skill:  jamal, New Level:  2, True FD Gained: 0.060%, max_strength_increase: 0.0007, max_strength_increase_ratio: 0.0054',\n",
       " 'Upgrade #:  31, Skill:  jamal, New Level:  3, True FD Gained: 0.060%, max_strength_increase: 0.0007, max_strength_increase_ratio: 0.0053',\n",
       " 'Upgrade #:  32, Skill:     pb, New Level:  2, True FD Gained: 0.060%, max_strength_increase: 0.0006, max_strength_increase_ratio: 0.0052',\n",
       " 'Upgrade #:  33, Skill:  jamal, New Level:  4, True FD Gained: 0.060%, max_strength_increase: 0.0007, max_strength_increase_ratio: 0.0052',\n",
       " 'Upgrade #:  34, Skill: zankou, New Level: 10, True FD Gained: 0.100%, max_strength_increase: 0.0011, max_strength_increase_ratio: 0.0051',\n",
       " 'Upgrade #:  35, Skill:     pb, New Level:  3, True FD Gained: 0.060%, max_strength_increase: 0.0006, max_strength_increase_ratio: 0.005',\n",
       " 'Upgrade #:  36, Skill:     pb, New Level:  4, True FD Gained: 0.060%, max_strength_increase: 0.0006, max_strength_increase_ratio: 0.0049',\n",
       " 'Upgrade #:  37, Skill:    rbf, New Level: 30, True FD Gained: 0.510%, max_strength_increase: 0.0058, max_strength_increase_ratio: 0.0046',\n",
       " 'Upgrade #:  38, Skill:  jinqd, New Level: 18, True FD Gained: 0.310%, max_strength_increase: 0.0035, max_strength_increase_ratio: 0.0045',\n",
       " 'Upgrade #:  39, Skill:  jinqd, New Level: 19, True FD Gained: 0.210%, max_strength_increase: 0.0025, max_strength_increase_ratio: 0.0037',\n",
       " 'Upgrade #:  40, Skill:  slice, New Level: 10, True FD Gained: 0.070%, max_strength_increase: 0.0008, max_strength_increase_ratio: 0.0037',\n",
       " 'Upgrade #:  41, Skill:  jinqd, New Level: 26, True FD Gained: 0.450%, max_strength_increase: 0.0051, max_strength_increase_ratio: 0.0033',\n",
       " 'Upgrade #:  42, Skill:  jinqd, New Level: 30, True FD Gained: 0.220%, max_strength_increase: 0.0025, max_strength_increase_ratio: 0.0032',\n",
       " 'Upgrade #:  43, Skill:  jamal, New Level: 10, True FD Gained: 0.060%, max_strength_increase: 0.0007, max_strength_increase_ratio: 0.0031',\n",
       " 'Upgrade #:  44, Skill: zankou, New Level: 11, True FD Gained: 0.090%, max_strength_increase: 0.0011, max_strength_increase_ratio: 0.0031',\n",
       " 'Upgrade #:  45, Skill: zankou, New Level: 20, True FD Gained: 0.090%, max_strength_increase: 0.0011, max_strength_increase_ratio: 0.0032',\n",
       " 'Upgrade #:  46, Skill:     pb, New Level: 10, True FD Gained: 0.050%, max_strength_increase: 0.0006, max_strength_increase_ratio: 0.003',\n",
       " 'Upgrade #:  47, Skill:  slice, New Level: 11, True FD Gained: 0.070%, max_strength_increase: 0.0008, max_strength_increase_ratio: 0.0022',\n",
       " 'Upgrade #:  48, Skill:  slice, New Level: 20, True FD Gained: 0.070%, max_strength_increase: 0.0008, max_strength_increase_ratio: 0.0023',\n",
       " 'Upgrade #:  49, Skill: zankou, New Level: 21, True FD Gained: 0.090%, max_strength_increase: 0.0011, max_strength_increase_ratio: 0.0021',\n",
       " 'Upgrade #:  50, Skill: zankou, New Level: 30, True FD Gained: 0.090%, max_strength_increase: 0.0011, max_strength_increase_ratio: 0.003',\n",
       " 'Upgrade #:  51, Skill:  jamal, New Level: 11, True FD Gained: 0.060%, max_strength_increase: 0.0007, max_strength_increase_ratio: 0.0019',\n",
       " 'Upgrade #:  52, Skill:  jamal, New Level: 20, True FD Gained: 0.060%, max_strength_increase: 0.0007, max_strength_increase_ratio: 0.0019',\n",
       " 'Upgrade #:  53, Skill:     pb, New Level: 11, True FD Gained: 0.050%, max_strength_increase: 0.0006, max_strength_increase_ratio: 0.0018',\n",
       " 'Upgrade #:  54, Skill:     pb, New Level: 20, True FD Gained: 0.050%, max_strength_increase: 0.0006, max_strength_increase_ratio: 0.0019',\n",
       " 'Upgrade #:  55, Skill:  slice, New Level: 21, True FD Gained: 0.070%, max_strength_increase: 0.0008, max_strength_increase_ratio: 0.0015',\n",
       " 'Upgrade #:  56, Skill:  slice, New Level: 30, True FD Gained: 0.070%, max_strength_increase: 0.0008, max_strength_increase_ratio: 0.0022',\n",
       " 'Upgrade #:  57, Skill:  jamal, New Level: 21, True FD Gained: 0.060%, max_strength_increase: 0.0007, max_strength_increase_ratio: 0.0013',\n",
       " 'Upgrade #:  58, Skill:  jamal, New Level: 30, True FD Gained: 0.060%, max_strength_increase: 0.0007, max_strength_increase_ratio: 0.0018',\n",
       " 'Upgrade #:  59, Skill:     pb, New Level: 21, True FD Gained: 0.050%, max_strength_increase: 0.0006, max_strength_increase_ratio: 0.0012',\n",
       " 'Upgrade #:  60, Skill:     pb, New Level: 30, True FD Gained: 0.050%, max_strength_increase: 0.0006, max_strength_increase_ratio: 0.0017']"
      ]
     },
     "execution_count": 403,
     "metadata": {},
     "output_type": "execute_result"
    }
   ],
   "source": [
    "#@title Simplified Upgrade Order (Look at This)\n",
    "order"
   ]
  },
  {
   "cell_type": "markdown",
   "metadata": {},
   "source": [
    "## Scraps"
   ]
  }
 ],
 "metadata": {
  "kernelspec": {
   "display_name": "Python 3",
   "language": "python",
   "name": "python3"
  },
  "language_info": {
   "codemirror_mode": {
    "name": "ipython",
    "version": 3
   },
   "file_extension": ".py",
   "mimetype": "text/x-python",
   "name": "python",
   "nbconvert_exporter": "python",
   "pygments_lexer": "ipython3",
   "version": "3.10.1"
  }
 },
 "nbformat": 4,
 "nbformat_minor": 2
}
